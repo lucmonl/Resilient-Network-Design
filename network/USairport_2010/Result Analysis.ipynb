{
 "cells": [
  {
   "cell_type": "code",
   "execution_count": 9,
   "metadata": {},
   "outputs": [],
   "source": [
    "import numpy as np\n",
    "import matplotlib.pyplot as plt"
   ]
  },
  {
   "cell_type": "code",
   "execution_count": 10,
   "metadata": {},
   "outputs": [],
   "source": [
    "var_gt = np.load(\"../../problem_set/USairport_2010/47_35_2/var_rand_disrupt.npy\")\n",
    "demand = np.load(\"d.npy\")"
   ]
  },
  {
   "cell_type": "code",
   "execution_count": 13,
   "metadata": {},
   "outputs": [
    {
     "data": {
      "text/plain": [
       "<BarContainer object of 47 artists>"
      ]
     },
     "execution_count": 13,
     "metadata": {},
     "output_type": "execute_result"
    },
    {
     "data": {
      "image/png": "[encoded data removed]",
      "text/plain": [
       "<Figure size 432x288 with 1 Axes>"
      ]
     },
     "metadata": {
      "needs_background": "light"
     },
     "output_type": "display_data"
    }
   ],
   "source": [
    "plt.bar(np.arange(47), demand)"
   ]
  },
  {
   "cell_type": "code",
   "execution_count": 16,
   "metadata": {},
   "outputs": [],
   "source": [
    "gt_demand = []\n",
    "for i in range(47):\n",
    "    if var_gt[-2*47 + 2*i] != 0:\n",
    "        gt_demand.append(var_gt[-2*47 + 2*i])\n",
    "    else:\n",
    "        gt_demand.append(-var_gt[-2*47 + 2*i + 1])"
   ]
  },
  {
   "cell_type": "code",
   "execution_count": 17,
   "metadata": {},
   "outputs": [
    {
     "data": {
      "text/plain": [
       "<BarContainer object of 47 artists>"
      ]
     },
     "execution_count": 17,
     "metadata": {},
     "output_type": "execute_result"
    },
    {
     "data": {
      "image/png": "[encoded data removed]",
      "text/plain": [
       "<Figure size 432x288 with 1 Axes>"
      ]
     },
     "metadata": {
      "needs_background": "light"
     },
     "output_type": "display_data"
    }
   ],
   "source": [
    "plt.bar(np.arange(47), gt_demand)"
   ]
  },
  {
   "cell_type": "code",
   "execution_count": 21,
   "metadata": {},
   "outputs": [
    {
     "data": {
      "text/plain": [
       "0"
      ]
     },
     "execution_count": 21,
     "metadata": {},
     "output_type": "execute_result"
    }
   ],
   "source": [
    "np.sum(var_gt[47**2:2*47**2] < 0)"
   ]
  },
  {
   "cell_type": "code",
   "execution_count": 23,
   "metadata": {},
   "outputs": [],
   "source": [
    "u = np.load(\"u.npy\")"
   ]
  },
  {
   "cell_type": "code",
   "execution_count": 29,
   "metadata": {},
   "outputs": [
    {
     "data": {
      "text/plain": [
       "array([0.01 , 0.005, 0.005, ..., 0.01 , 0.01 , 0.01 ])"
      ]
     },
     "execution_count": 29,
     "metadata": {},
     "output_type": "execute_result"
    }
   ],
   "source": [
    "u.flatten()"
   ]
  },
  {
   "cell_type": "code",
   "execution_count": 31,
   "metadata": {},
   "outputs": [
    {
     "data": {
      "text/plain": [
       "array([ 0., -0., -0., ..., -0., -0.,  0.])"
      ]
     },
     "execution_count": 31,
     "metadata": {},
     "output_type": "execute_result"
    }
   ],
   "source": [
    "var_gt[47**2:2*47**2]"
   ]
  },
  {
   "cell_type": "code",
   "execution_count": 36,
   "metadata": {},
   "outputs": [
    {
     "data": {
      "text/plain": [
       "56"
      ]
     },
     "execution_count": 36,
     "metadata": {},
     "output_type": "execute_result"
    }
   ],
   "source": [
    "np.sum((u.flatten() - var_gt[47**2:2*47**2]) == 0)"
   ]
  },
  {
   "cell_type": "code",
   "execution_count": 35,
   "metadata": {},
   "outputs": [
    {
     "data": {
      "text/plain": [
       "84"
      ]
     },
     "execution_count": 35,
     "metadata": {},
     "output_type": "execute_result"
    }
   ],
   "source": [
    "np.sum(var_gt[47**2:2*47**2] != 0)"
   ]
  },
  {
   "cell_type": "code",
   "execution_count": 33,
   "metadata": {},
   "outputs": [
    {
     "data": {
      "text/plain": [
       "0.13"
      ]
     },
     "execution_count": 33,
     "metadata": {},
     "output_type": "execute_result"
    }
   ],
   "source": [
    "u.flatten()[9]"
   ]
  },
  {
   "cell_type": "code",
   "execution_count": 34,
   "metadata": {},
   "outputs": [
    {
     "data": {
      "text/plain": [
       "0.13"
      ]
     },
     "execution_count": 34,
     "metadata": {},
     "output_type": "execute_result"
    }
   ],
   "source": [
    "var_gt[47**2:2*47**2][9]"
   ]
  },
  {
   "cell_type": "code",
   "execution_count": 24,
   "metadata": {},
   "outputs": [
    {
     "data": {
      "text/plain": [
       "(47, 47)"
      ]
     },
     "execution_count": 24,
     "metadata": {},
     "output_type": "execute_result"
    }
   ],
   "source": [
    "u.shape"
   ]
  },
  {
   "cell_type": "code",
   "execution_count": 6,
   "metadata": {},
   "outputs": [
    {
     "data": {
      "text/plain": [
       "4512"
      ]
     },
     "execution_count": 6,
     "metadata": {},
     "output_type": "execute_result"
    }
   ],
   "source": [
    "2*47 ** 2 + 2 * 47"
   ]
  },
  {
   "cell_type": "code",
   "execution_count": 11,
   "metadata": {},
   "outputs": [
    {
     "data": {
      "text/plain": [
       "array([-2.29000e-01, -1.49000e-01,  1.50000e-02, -3.00000e-03,\n",
       "       -2.50000e-03, -5.94500e-01,  1.01155e+01,  9.45000e-02,\n",
       "       -5.00000e-03,  6.50850e+00, -1.07800e+00, -3.01000e-01,\n",
       "       -1.00000e-03, -6.90000e-02,  2.50000e-03, -1.40000e-02,\n",
       "       -8.36000e-01,  2.00000e-03,  6.50000e-02,  4.44900e+00,\n",
       "        1.50000e-02, -1.50000e-02, -1.21950e+00,  1.50000e-02,\n",
       "        9.36500e-01, -2.50000e-03,  5.00000e-04, -2.70500e-01,\n",
       "        5.00000e-03,  5.07000e-01, -1.21875e+01,  5.50000e-02,\n",
       "       -9.50000e-03, -2.90000e-02, -2.25000e-02, -5.12500e-01,\n",
       "        3.09000e-01,  0.00000e+00, -9.50250e+00,  5.15500e-01,\n",
       "        5.35000e-02,  3.00400e+00,  1.75000e-02,  1.50000e-03,\n",
       "        4.00000e-03, -4.70000e-02,  4.09000e-01])"
      ]
     },
     "execution_count": 11,
     "metadata": {},
     "output_type": "execute_result"
    }
   ],
   "source": [
    "demand"
   ]
  },
  {
   "cell_type": "code",
   "execution_count": 8,
   "metadata": {},
   "outputs": [
    {
     "data": {
      "text/plain": [
       "array([0.0000e+00, 2.4000e-02, 0.0000e+00, 8.4000e-02, 1.5000e-02,\n",
       "       0.0000e+00, 0.0000e+00, 0.0000e+00, 0.0000e+00, 2.5000e-03,\n",
       "       0.0000e+00, 0.0000e+00, 9.3160e+00, 0.0000e+00, 9.4500e-02,\n",
       "       0.0000e+00, 0.0000e+00, 0.0000e+00, 2.6530e+00, 0.0000e+00,\n",
       "       0.0000e+00, 1.0780e+00, 0.0000e+00, 0.0000e+00, 0.0000e+00,\n",
       "       0.0000e+00, 0.0000e+00, 0.0000e+00, 2.5000e-03, 0.0000e+00,\n",
       "       0.0000e+00, 0.0000e+00, 0.0000e+00, 5.2100e-01, 0.0000e+00,\n",
       "       0.0000e+00, 6.5000e-02, 0.0000e+00, 4.2390e+00, 0.0000e+00,\n",
       "       1.2500e-02, 0.0000e+00, 0.0000e+00, 1.2500e-02, 0.0000e+00,\n",
       "       1.2195e+00, 1.5000e-02, 0.0000e+00, 4.2650e-01, 0.0000e+00,\n",
       "       0.0000e+00, 0.0000e+00, 0.0000e+00, 0.0000e+00, 0.0000e+00,\n",
       "       2.7050e-01, 5.0000e-03, 0.0000e+00, 4.4700e-01, 0.0000e+00,\n",
       "       0.0000e+00, 1.0656e+01, 5.5000e-02, 0.0000e+00, 0.0000e+00,\n",
       "       9.5000e-03, 0.0000e+00, 2.9000e-02, 0.0000e+00, 0.0000e+00,\n",
       "       0.0000e+00, 0.0000e+00, 3.0900e-01, 0.0000e+00, 0.0000e+00,\n",
       "       0.0000e+00, 0.0000e+00, 6.7420e+00, 1.4800e-01, 0.0000e+00,\n",
       "       5.3500e-02, 0.0000e+00, 2.3615e+00, 0.0000e+00, 1.7500e-02,\n",
       "       0.0000e+00, 0.0000e+00, 0.0000e+00, 4.0000e-03, 0.0000e+00,\n",
       "       0.0000e+00, 0.0000e+00, 4.0900e-01, 0.0000e+00])"
      ]
     },
     "execution_count": 8,
     "metadata": {},
     "output_type": "execute_result"
    }
   ],
   "source": [
    "var_gt[-2*47:]"
   ]
  },
  {
   "cell_type": "code",
   "execution_count": null,
   "metadata": {},
   "outputs": [],
   "source": []
  }
 ],
 "metadata": {
  "kernelspec": {
   "display_name": "torch1.9",
   "language": "python",
   "name": "torch1.9"
  },
  "language_info": {
   "codemirror_mode": {
    "name": "ipython",
    "version": 3
   },
   "file_extension": ".py",
   "mimetype": "text/x-python",
   "name": "python",
   "nbconvert_exporter": "python",
   "pygments_lexer": "ipython3",
   "version": "3.7.11"
  }
 },
 "nbformat": 4,
 "nbformat_minor": 4
}
